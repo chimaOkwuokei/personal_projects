{
 "cells": [
  {
   "cell_type": "code",
   "execution_count": 20,
   "id": "642d39a3",
   "metadata": {},
   "outputs": [
    {
     "name": "stdout",
     "output_type": "stream",
     "text": [
      "Loading...\n",
      "Welcome to the guessing game\n",
      "5\n",
      "Guess a number: 3\n",
      "Try with a larger value\n",
      "Guess a number: 2\n",
      "Try with a larger value\n",
      "Guess a number: 6\n",
      "Try again with a smaller value\n",
      "Guess a number: 5\n",
      "You win, the random number is  5\n"
     ]
    }
   ],
   "source": [
    "#random guessing game\n",
    "import time\n",
    "import random\n",
    "\n",
    "print(\"Loading...\")\n",
    "time.sleep(3)\n",
    "print(\"Welcome to the guessing game\")\n",
    "\n",
    "\n",
    "random_num = random.randint(0,10)\n",
    "print(random_num)\n",
    "\n",
    "\n",
    "\n",
    "\n",
    "while True:\n",
    "    user_input = int(input(\"Guess a number: \"))\n",
    "    \n",
    "    if random_num < user_input:\n",
    "        print(\"Try again with a smaller value\")\n",
    "        continue\n",
    "    elif random_num > user_input:\n",
    "        print(\"Try with a larger value\")\n",
    "        continue\n",
    "    else:\n",
    "        print('You win, the random number is ',random_num)\n",
    "        break\n",
    "\n"
   ]
  },
  {
   "cell_type": "code",
   "execution_count": null,
   "id": "8223604b",
   "metadata": {},
   "outputs": [],
   "source": []
  }
 ],
 "metadata": {
  "kernelspec": {
   "display_name": "Python 3 (ipykernel)",
   "language": "python",
   "name": "python3"
  },
  "language_info": {
   "codemirror_mode": {
    "name": "ipython",
    "version": 3
   },
   "file_extension": ".py",
   "mimetype": "text/x-python",
   "name": "python",
   "nbconvert_exporter": "python",
   "pygments_lexer": "ipython3",
   "version": "3.11.5"
  }
 },
 "nbformat": 4,
 "nbformat_minor": 5
}
